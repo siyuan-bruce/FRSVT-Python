{
 "cells": [
  {
   "cell_type": "code",
   "execution_count": 24,
   "id": "e96d18c9",
   "metadata": {},
   "outputs": [],
   "source": [
    "import numpy as np\n",
    "# read inspired_SVT.txt\n",
    "with open('inspired_SVT.txt', 'r') as f:\n",
    "    inspired_SVT = f.read()"
   ]
  },
  {
   "cell_type": "code",
   "execution_count": 25,
   "id": "6cb9819c",
   "metadata": {},
   "outputs": [],
   "source": [
    "times = inspired_SVT.split(\"\\n\")"
   ]
  },
  {
   "cell_type": "code",
   "execution_count": 26,
   "id": "df4f6e6e",
   "metadata": {},
   "outputs": [],
   "source": [
    "data_construction_time = 0\n",
    "for i in times[:-1]:\n",
    "    data_construction_time += (float(i.split(\":\")[-1]))"
   ]
  },
  {
   "cell_type": "code",
   "execution_count": 27,
   "id": "cd0e767e",
   "metadata": {},
   "outputs": [
    {
     "data": {
      "text/plain": [
       "1.458296775817871"
      ]
     },
     "execution_count": 27,
     "metadata": {},
     "output_type": "execute_result"
    }
   ],
   "source": [
    "float(times[-1].split(\":\")[-1]) - data_construction_time"
   ]
  },
  {
   "cell_type": "code",
   "execution_count": null,
   "id": "8ccfd470",
   "metadata": {},
   "outputs": [],
   "source": []
  }
 ],
 "metadata": {
  "kernelspec": {
   "display_name": "Python 3 (ipykernel)",
   "language": "python",
   "name": "python3"
  },
  "language_info": {
   "codemirror_mode": {
    "name": "ipython",
    "version": 3
   },
   "file_extension": ".py",
   "mimetype": "text/x-python",
   "name": "python",
   "nbconvert_exporter": "python",
   "pygments_lexer": "ipython3",
   "version": "3.11.0"
  }
 },
 "nbformat": 4,
 "nbformat_minor": 5
}
